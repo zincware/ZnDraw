{
 "cells": [
  {
   "cell_type": "code",
   "execution_count": 1,
   "metadata": {},
   "outputs": [],
   "source": [
    "from ase.collections import s22\n",
    "from zndraw import ZnDraw"
   ]
  },
  {
   "cell_type": "code",
   "execution_count": 2,
   "metadata": {},
   "outputs": [
    {
     "name": "stdout",
     "output_type": "stream",
     "text": [
      "Starting ZnDraw server at http://127.0.0.1:1234\n",
      "Connected to ZnDraw server at http://127.0.0.1:1234\n"
     ]
    },
    {
     "data": {
      "text/html": [
       "\n",
       "        <iframe\n",
       "            width=\"100%\"\n",
       "            height=\"600px\"\n",
       "            src=\"http://127.0.0.1:1234\"\n",
       "            frameborder=\"0\"\n",
       "            allowfullscreen\n",
       "            \n",
       "        ></iframe>\n",
       "        "
      ],
      "text/plain": [
       "ZnDraw(url='http://127.0.0.1:1234', socket=<socketio.client.Client object at 0x0000020FA2721A50>, jupyter=True, bonds_calculator=ASEComputeBonds(single_bond_multiplier=1.2, double_bond_multiplier=0.9, triple_bond_multiplier=0.0), display_new=True, _retries=5)"
      ]
     },
     "execution_count": 2,
     "metadata": {},
     "output_type": "execute_result"
    }
   ],
   "source": [
    "vis = ZnDraw(jupyter=True)\n",
    "vis"
   ]
  },
  {
   "cell_type": "code",
   "execution_count": 3,
   "metadata": {},
   "outputs": [],
   "source": [
    "vis.socket.sleep(0.5) # if we just started the server, we need to wait a bit"
   ]
  },
  {
   "cell_type": "markdown",
   "metadata": {},
   "source": [
    "# The `zndraw.ZnDraw` Object\n",
    "\n",
    "The `zndraw.ZnDraw` object acts a bit like a list.\n",
    "All objects in that list visualized using `ZnDraw`.\n",
    "Objects can not be changed in place but otherwise, typical list operations are possible."
   ]
  },
  {
   "cell_type": "code",
   "execution_count": 4,
   "metadata": {},
   "outputs": [],
   "source": [
    "vis.extend(s22)"
   ]
  },
  {
   "cell_type": "code",
   "execution_count": 5,
   "metadata": {},
   "outputs": [
    {
     "data": {
      "text/plain": [
       "[Atoms(symbols='', pbc=True),\n",
       " Atoms(symbols='NH3NH3', pbc=True),\n",
       " Atoms(symbols='OH2OH2', pbc=True),\n",
       " Atoms(symbols='CO2H2CO2H2', pbc=True),\n",
       " Atoms(symbols='CONH3CONH3', pbc=True),\n",
       " Atoms(symbols='OCNC3NOH4OCNC3NOH4', pbc=True),\n",
       " Atoms(symbols='ONC5H5NC5H4NH2', pbc=True),\n",
       " Atoms(symbols='NC3NCNCN2H5NC3NC2O2H6', pbc=True),\n",
       " Atoms(symbols='CH4CH4', pbc=True),\n",
       " Atoms(symbols='C2H4C2H4', pbc=True),\n",
       " Atoms(symbols='C6H6CH4', pbc=True),\n",
       " Atoms(symbols='C6H6C6H6', pbc=True),\n",
       " Atoms(symbols='C2NC2NH4C2NC2NH4', pbc=True),\n",
       " Atoms(symbols='C6H7C2HC2HCNC2HCH3', pbc=True),\n",
       " Atoms(symbols='NCHNC2NH2NCHNCHNCHC2H3CONHCOH', pbc=True),\n",
       " Atoms(symbols='C2H4C2H2', pbc=True),\n",
       " Atoms(symbols='C6H6OH2', pbc=True),\n",
       " Atoms(symbols='C6H6NCH', pbc=True),\n",
       " Atoms(symbols='C6H6C6H6', pbc=True),\n",
       " Atoms(symbols='C6H7NC8H6', pbc=True),\n",
       " Atoms(symbols='COHC5H5OCHC5H5', pbc=True)]"
      ]
     },
     "execution_count": 5,
     "metadata": {},
     "output_type": "execute_result"
    }
   ],
   "source": [
    "list(vis)"
   ]
  },
  {
   "cell_type": "code",
   "execution_count": 6,
   "metadata": {},
   "outputs": [],
   "source": [
    "vis.display(2) # display the second molecule"
   ]
  },
  {
   "cell_type": "code",
   "execution_count": 7,
   "metadata": {},
   "outputs": [],
   "source": [
    "vis[0] = s22['Water_dimer']"
   ]
  },
  {
   "cell_type": "code",
   "execution_count": 8,
   "metadata": {},
   "outputs": [],
   "source": [
    "vis.append(s22['Formic_acid_dimer'])"
   ]
  },
  {
   "cell_type": "code",
   "execution_count": null,
   "metadata": {},
   "outputs": [],
   "source": []
  }
 ],
 "metadata": {
  "kernelspec": {
   "display_name": "zndraw",
   "language": "python",
   "name": "python3"
  },
  "language_info": {
   "codemirror_mode": {
    "name": "ipython",
    "version": 3
   },
   "file_extension": ".py",
   "mimetype": "text/x-python",
   "name": "python",
   "nbconvert_exporter": "python",
   "pygments_lexer": "ipython3",
   "version": "3.11.4"
  },
  "orig_nbformat": 4
 },
 "nbformat": 4,
 "nbformat_minor": 2
}
