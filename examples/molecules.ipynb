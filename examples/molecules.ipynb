{
 "cells": [
  {
   "cell_type": "code",
   "execution_count": 1,
   "metadata": {},
   "outputs": [],
   "source": [
    "from ase.collections import s22\n",
    "from zndraw import ZnDraw"
   ]
  },
  {
   "cell_type": "code",
   "execution_count": 2,
   "metadata": {},
   "outputs": [
    {
     "name": "stdout",
     "output_type": "stream",
     "text": [
      "Starting ZnDraw server at http://127.0.0.1:1234\n",
      "Connected to ZnDraw server at http://127.0.0.1:1234\n"
     ]
    }
   ],
   "source": [
    "vis = ZnDraw()"
   ]
  },
  {
   "cell_type": "code",
   "execution_count": 3,
   "metadata": {},
   "outputs": [],
   "source": [
    "vis.socket.sleep(10.0) # if we just started the server, we need to wait a bit"
   ]
  },
  {
   "cell_type": "markdown",
   "metadata": {},
   "source": [
    "# The `zndraw.ZnDraw` Object\n",
    "\n",
    "The `zndraw.ZnDraw` object acts a bit like a list.\n",
    "All objects in that list visualized using `ZnDraw`.\n",
    "Objects can not be changed in place but otherwise, typical list operations are possible."
   ]
  },
  {
   "cell_type": "code",
   "execution_count": 36,
   "metadata": {},
   "outputs": [],
   "source": [
    "vis.extend(s22)"
   ]
  },
  {
   "cell_type": "code",
   "execution_count": 5,
   "metadata": {},
   "outputs": [
    {
     "data": {
      "text/plain": [
       "[Atoms(symbols='', pbc=True),\n",
       " Atoms(symbols='NH3NH3', pbc=True),\n",
       " Atoms(symbols='OH2OH2', pbc=True),\n",
       " Atoms(symbols='CO2H2CO2H2', pbc=True),\n",
       " Atoms(symbols='CONH3CONH3', pbc=True),\n",
       " Atoms(symbols='OCNC3NOH4OCNC3NOH4', pbc=True),\n",
       " Atoms(symbols='ONC5H5NC5H4NH2', pbc=True),\n",
       " Atoms(symbols='NC3NCNCN2H5NC3NC2O2H6', pbc=True),\n",
       " Atoms(symbols='CH4CH4', pbc=True),\n",
       " Atoms(symbols='C2H4C2H4', pbc=True),\n",
       " Atoms(symbols='C6H6CH4', pbc=True),\n",
       " Atoms(symbols='C6H6C6H6', pbc=True),\n",
       " Atoms(symbols='C2NC2NH4C2NC2NH4', pbc=True),\n",
       " Atoms(symbols='NCHCHCONHCOHNCHCHCONHCOH', pbc=True),\n",
       " Atoms(symbols='C6H7C2HC2HCNC2HCH3', pbc=True),\n",
       " Atoms(symbols='NCHNC2NH2NCHNCHNCHC2H3CONHCOH', pbc=True),\n",
       " Atoms(symbols='C2H4C2H2', pbc=True),\n",
       " Atoms(symbols='C6H6OH2', pbc=True),\n",
       " Atoms(symbols='C6H6NH3', pbc=True),\n",
       " Atoms(symbols='C6H6C6H6', pbc=True),\n",
       " Atoms(symbols='C6H7NC8H6', pbc=True),\n",
       " Atoms(symbols='COHC5H5OCHC5H5', pbc=True)]"
      ]
     },
     "execution_count": 5,
     "metadata": {},
     "output_type": "execute_result"
    }
   ],
   "source": [
    "list(vis)"
   ]
  },
  {
   "cell_type": "code",
   "execution_count": 6,
   "metadata": {},
   "outputs": [],
   "source": [
    "vis.display(2) # display the second molecule"
   ]
  },
  {
   "cell_type": "code",
   "execution_count": 7,
   "metadata": {},
   "outputs": [],
   "source": [
    "vis[0] = s22['Water_dimer']"
   ]
  },
  {
   "cell_type": "code",
   "execution_count": 8,
   "metadata": {},
   "outputs": [],
   "source": [
    "vis.append(s22['Formic_acid_dimer'])"
   ]
  },
  {
   "cell_type": "code",
   "execution_count": 9,
   "metadata": {},
   "outputs": [
    {
     "data": {
      "text/plain": [
       "[Atoms(symbols='OH2OH2', pbc=True),\n",
       " Atoms(symbols='CO2H2CO2H2', pbc=True),\n",
       " Atoms(symbols='CONH3CONH3', pbc=True)]"
      ]
     },
     "execution_count": 9,
     "metadata": {},
     "output_type": "execute_result"
    }
   ],
   "source": [
    "vis[2:5]"
   ]
  },
  {
   "cell_type": "code",
   "execution_count": 10,
   "metadata": {},
   "outputs": [
    {
     "ename": "AssertionError",
     "evalue": "Must be an ASE Atoms object",
     "output_type": "error",
     "traceback": [
      "\u001b[1;31m---------------------------------------------------------------------------\u001b[0m",
      "\u001b[1;31mAssertionError\u001b[0m                            Traceback (most recent call last)",
      "Cell \u001b[1;32mIn[10], line 1\u001b[0m\n\u001b[1;32m----> 1\u001b[0m vis[\u001b[39m0\u001b[39;49m:\u001b[39m2\u001b[39;49m] \u001b[39m=\u001b[39m vis[\u001b[39m2\u001b[39m:\u001b[39m4\u001b[39m]\n",
      "File \u001b[1;32m~\\OneDrive\\Desktop\\HiWi_Uni\\ZnDraw\\ZnDraw\\zndraw\\zndraw.py:160\u001b[0m, in \u001b[0;36mZnDraw.__setitem__\u001b[1;34m(self, index, value)\u001b[0m\n\u001b[0;32m    159\u001b[0m \u001b[39mdef\u001b[39;00m \u001b[39m__setitem__\u001b[39m(\u001b[39mself\u001b[39m, index, value):\n\u001b[1;32m--> 160\u001b[0m     \u001b[39mself\u001b[39;49m\u001b[39m.\u001b[39;49m_set_item(index, value)\n\u001b[0;32m    161\u001b[0m     \u001b[39mif\u001b[39;00m \u001b[39mself\u001b[39m\u001b[39m.\u001b[39mdisplay_new:\n\u001b[0;32m    162\u001b[0m         \u001b[39mself\u001b[39m\u001b[39m.\u001b[39mdisplay(index)\n",
      "File \u001b[1;32m~\\OneDrive\\Desktop\\HiWi_Uni\\ZnDraw\\ZnDraw\\zndraw\\zndraw.py:150\u001b[0m, in \u001b[0;36mZnDraw._set_item\u001b[1;34m(self, index, value)\u001b[0m\n\u001b[0;32m    149\u001b[0m \u001b[39mdef\u001b[39;00m \u001b[39m_set_item\u001b[39m(\u001b[39mself\u001b[39m, index, value):\n\u001b[1;32m--> 150\u001b[0m     \u001b[39massert\u001b[39;00m \u001b[39misinstance\u001b[39m(value, ase\u001b[39m.\u001b[39mAtoms), \u001b[39m\"\u001b[39m\u001b[39mMust be an ASE Atoms object\u001b[39m\u001b[39m\"\u001b[39m\n\u001b[0;32m    151\u001b[0m     \u001b[39massert\u001b[39;00m \u001b[39misinstance\u001b[39m(index, \u001b[39mint\u001b[39m), \u001b[39m\"\u001b[39m\u001b[39mIndex must be an integer\u001b[39m\u001b[39m\"\u001b[39m\n\u001b[0;32m    152\u001b[0m     \u001b[39mif\u001b[39;00m \u001b[39mself\u001b[39m\u001b[39m.\u001b[39mbonds_calculator \u001b[39mis\u001b[39;00m \u001b[39mnot\u001b[39;00m \u001b[39mNone\u001b[39;00m:\n",
      "\u001b[1;31mAssertionError\u001b[0m: Must be an ASE Atoms object"
     ]
    }
   ],
   "source": [
    "vis[0:2] = vis[2:4]"
   ]
  },
  {
   "cell_type": "code",
   "execution_count": 29,
   "metadata": {},
   "outputs": [],
   "source": [
    "for i in range(10):\n",
    "    del vis[20]\n",
    "# __delitem__ is not supported by the server, so we need to do it in Python"
   ]
  },
  {
   "cell_type": "code",
   "execution_count": 37,
   "metadata": {},
   "outputs": [
    {
     "data": {
      "text/plain": [
       "55"
      ]
     },
     "execution_count": 37,
     "metadata": {},
     "output_type": "execute_result"
    }
   ],
   "source": [
    "len(vis)"
   ]
  },
  {
   "cell_type": "code",
   "execution_count": null,
   "metadata": {},
   "outputs": [],
   "source": []
  }
 ],
 "metadata": {
  "kernelspec": {
   "display_name": "zndraw",
   "language": "python",
   "name": "python3"
  },
  "language_info": {
   "codemirror_mode": {
    "name": "ipython",
    "version": 3
   },
   "file_extension": ".py",
   "mimetype": "text/x-python",
   "name": "python",
   "nbconvert_exporter": "python",
   "pygments_lexer": "ipython3",
   "version": "3.11.4"
  },
  "orig_nbformat": 4
 },
 "nbformat": 4,
 "nbformat_minor": 2
}
